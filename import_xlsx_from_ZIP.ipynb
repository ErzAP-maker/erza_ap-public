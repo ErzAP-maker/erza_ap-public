{
  "nbformat": 4,
  "nbformat_minor": 0,
  "metadata": {
    "colab": {
      "provenance": [],
      "mount_file_id": "1M8zWRpCvfeOun1ROmmJvWNUT-nGA46Z5",
      "authorship_tag": "ABX9TyOUnRZUiKpWJEIAQe+DVySs",
      "include_colab_link": true
    },
    "kernelspec": {
      "name": "python3",
      "display_name": "Python 3"
    },
    "language_info": {
      "name": "python"
    }
  },
  "cells": [
    {
      "cell_type": "markdown",
      "metadata": {
        "id": "view-in-github",
        "colab_type": "text"
      },
      "source": [
        "<a href=\"https://colab.research.google.com/github/ErzAP-maker/erza_ap-public/blob/main/import_xlsx_from_ZIP.ipynb\" target=\"_parent\"><img src=\"https://colab.research.google.com/assets/colab-badge.svg\" alt=\"Open In Colab\"/></a>"
      ]
    },
    {
      "cell_type": "code",
      "execution_count": null,
      "metadata": {
        "colab": {
          "base_uri": "https://localhost:8080/"
        },
        "id": "OxMJfDggrK2r",
        "outputId": "7fa6ca9d-1d50-42fd-999a-0d49359deddd"
      },
      "outputs": [
        {
          "output_type": "stream",
          "name": "stdout",
          "text": [
            "File Raw_Incoming_Chat_2024-11-12.csv berhasil diproses dan disimpan sebagai Raw_Incoming_Chat_2024-11-12.xlsx\n",
            "File zip IncomingChatData_2024-11-12.zip dipindahkan ke folder archive.\n"
          ]
        }
      ],
      "source": [
        "import os\n",
        "import zipfile\n",
        "import pandas as pd\n",
        "from datetime import datetime, timedelta\n",
        "import shutil\n",
        "\n",
        "# Tentukan folder input dan output\n",
        "input_folder = '/content/drive/MyDrive/Incoming Chat '  # Folder tempat file zip disimpan\n",
        "output_folder = '/content/drive/MyDrive/Incoming Chat /Incoming Chat 2024 [new]'  # Folder untuk menyimpan file xlsx\n",
        "archive_folder = '/content/drive/MyDrive/Incoming Chat '  # Folder untuk memindahkan file zip yang sudah diproses\n",
        "\n",
        "# Pastikan folder output dan archive ada\n",
        "os.makedirs(output_folder, exist_ok=True)\n",
        "os.makedirs(archive_folder, exist_ok=True)\n",
        "\n",
        "# Mendapatkan waktu 24 jam yang lalu\n",
        "time_24_hours_ago = datetime.now() - timedelta(days=1)\n",
        "\n",
        "# Fungsi untuk memeriksa file ZIP yang baru ditambahkan dalam 24 jam terakhir\n",
        "def get_recent_zip_files(input_folder):\n",
        "    recent_files = []\n",
        "    for file_name in os.listdir(input_folder):\n",
        "        file_path = os.path.join(input_folder, file_name)\n",
        "        if file_name.endswith('.zip') and os.path.getmtime(file_path) > time_24_hours_ago.timestamp():\n",
        "            recent_files.append(file_path)\n",
        "    return recent_files\n",
        "\n",
        "# Fungsi untuk mengekstrak CSV dari ZIP dan mengonversinya ke XLSX\n",
        "def process_zip(zip_file_path):\n",
        "    # Buka file zip\n",
        "    with zipfile.ZipFile(zip_file_path, 'r') as zip_ref:\n",
        "        # Daftar file dalam zip\n",
        "        file_list = zip_ref.namelist()\n",
        "\n",
        "        # Cari file CSV yang mengandung \"Raw_Incoming_Chat_2024\"\n",
        "        for file_name in file_list:\n",
        "            if 'Raw_Incoming_Chat_2024' in file_name and file_name.endswith('.csv'):\n",
        "                # Ekstrak file CSV\n",
        "                csv_file_path = os.path.join('/content', file_name)\n",
        "                zip_ref.extract(file_name, '/content')\n",
        "\n",
        "                # Baca CSV menjadi DataFrame\n",
        "                df = pd.read_csv(csv_file_path)\n",
        "\n",
        "                # Tentukan nama file XLSX\n",
        "                xlsx_file_name = file_name.replace('.csv', '.xlsx')\n",
        "                xlsx_file_path = os.path.join(output_folder, xlsx_file_name)\n",
        "\n",
        "                # Simpan ke XLSX\n",
        "                df.to_excel(xlsx_file_path, index=False)\n",
        "\n",
        "                # Hapus file CSV setelah konversi\n",
        "                os.remove(csv_file_path)\n",
        "                print(f\"File {file_name} berhasil diproses dan disimpan sebagai {xlsx_file_name}\")\n",
        "                return True\n",
        "    return False\n",
        "\n",
        "# Ambil file zip yang baru ditambahkan dalam 24 jam terakhir\n",
        "recent_zip_files = get_recent_zip_files(input_folder)\n",
        "\n",
        "# Proses setiap file zip yang baru\n",
        "for zip_file in recent_zip_files:\n",
        "    if process_zip(zip_file):\n",
        "        # Pindahkan file zip yang sudah diproses ke folder archive\n",
        "        shutil.move(zip_file, os.path.join(archive_folder, os.path.basename(zip_file)))\n",
        "        print(f\"File zip {os.path.basename(zip_file)} dipindahkan ke folder archive.\")\n"
      ]
    }
  ]
}